{
 "cells": [
  {
   "cell_type": "markdown",
   "metadata": {},
   "source": [
    "<h4> Performance of NumPy vs. Built-in Python object </h4>"
   ]
  },
  {
   "cell_type": "code",
   "execution_count": 1,
   "metadata": {},
   "outputs": [
    {
     "name": "stdout",
     "output_type": "stream",
     "text": [
      "CPU times: user 20.9 ms, sys: 15.9 ms, total: 36.8 ms\n",
      "Wall time: 46.8 ms\n"
     ]
    }
   ],
   "source": [
    "import numpy as np\n",
    "my_arr = np.arange(1000000)\n",
    "my_list = list(my_arr)\n",
    "\n",
    "numpy_per = %time for _ in range(10): my_arr2= my_arr * 2\n",
    "numpy_per"
   ]
  },
  {
   "cell_type": "code",
   "execution_count": 11,
   "metadata": {},
   "outputs": [
    {
     "name": "stdout",
     "output_type": "stream",
     "text": [
      "CPU times: user 2.7 s, sys: 117 ms, total: 2.82 s\n",
      "Wall time: 2.84 s\n"
     ]
    }
   ],
   "source": [
    "builtin_per = %time for _ in range(10): my_list2 = [x*2 for x in my_list]\n",
    "builtin_per"
   ]
  },
  {
   "cell_type": "markdown",
   "metadata": {},
   "source": [
    "<h4>Working with nested sequence of list in NumPy</h4>"
   ]
  },
  {
   "cell_type": "code",
   "execution_count": 21,
   "metadata": {},
   "outputs": [
    {
     "data": {
      "text/plain": [
       "array([[1, 2, 3],\n",
       "       [4, 5, 6]])"
      ]
     },
     "execution_count": 21,
     "metadata": {},
     "output_type": "execute_result"
    }
   ],
   "source": [
    "data = [[1,2,3], [4,5,6]]\n",
    "\n",
    "arr = np.array(data)\n",
    "arr.shape\n",
    "arr.ndim\n",
    "arr"
   ]
  },
  {
   "cell_type": "markdown",
   "metadata": {},
   "source": [
    "<h4> Boolean Indexing </h4>"
   ]
  },
  {
   "cell_type": "code",
   "execution_count": 32,
   "metadata": {},
   "outputs": [
    {
     "name": "stdout",
     "output_type": "stream",
     "text": [
      "[[ 1.43557627 -1.09817543  0.44046755  0.80495663]\n",
      " [ 1.27697874  0.34878352 -0.71136721 -0.01593855]\n",
      " [-0.30354192 -0.4135478   1.99067563 -1.48751501]\n",
      " [ 0.79042721  0.84611955  0.5685947  -2.33133782]\n",
      " [-0.24870595  0.57038387 -0.91614404 -3.14150912]\n",
      " [-0.03208382 -0.09524793 -0.24864763  0.23836339]\n",
      " [ 0.43595555  0.57279476 -0.59901348  0.19222599]]\n"
     ]
    },
    {
     "data": {
      "text/plain": [
       "array([[ 8.        ,  8.        ,  8.        ,  8.        ],\n",
       "       [ 1.27697874,  0.34878352, -0.71136721, -0.01593855],\n",
       "       [ 8.        ,  8.        ,  8.        ,  8.        ],\n",
       "       [-0.03208382, -0.09524793, -0.24864763,  0.23836339],\n",
       "       [ 0.43595555,  0.57279476, -0.59901348,  0.19222599]])"
      ]
     },
     "execution_count": 32,
     "metadata": {},
     "output_type": "execute_result"
    }
   ],
   "source": [
    "num = np.random.randn(7,4)\n",
    "names = np.array(['Bob', 'Joe', 'Will', 'Bob', 'Will', 'Joe', 'Joe'])\n",
    "\n",
    "# It will set all the negative values in ndarray to 0\n",
    "#num[num<0] = 0\n",
    "cond = names == 'Bob'\n",
    "print(num)\n",
    "\n",
    "# To invert to result\n",
    "num[~cond]\n",
    "\n",
    "# Unary Operator\n",
    "mask = (names == 'Bob') | (names == 'Joe')\n",
    "\n",
    "num[names != 'Joe'] = 8\n",
    "num[mask]"
   ]
  },
  {
   "cell_type": "markdown",
   "metadata": {},
   "source": [
    "<h4> Fancy Indexing </h4>"
   ]
  },
  {
   "cell_type": "code",
   "execution_count": 10,
   "metadata": {},
   "outputs": [
    {
     "name": "stdout",
     "output_type": "stream",
     "text": [
      "[[4. 4. 4.]\n",
      " [7. 7. 7.]\n",
      " [2. 2. 2.]]\n",
      "\n",
      "We can use negative sign to select the values from the end\n",
      "[[3. 3. 3.]\n",
      " [6. 6. 6.]]\n"
     ]
    }
   ],
   "source": [
    "arr = np.empty((8,3))\n",
    "arr\n",
    "\n",
    "for i in range(8):\n",
    "    arr[i]=i\n",
    "print(arr[[4,7,2]])\n",
    "\n",
    "print(\"\\nWe can use negative sign to select the values from the end\")\n",
    "print(arr[[-5, -2]])"
   ]
  },
  {
   "cell_type": "code",
   "execution_count": 14,
   "metadata": {},
   "outputs": [
    {
     "data": {
      "text/plain": [
       "array([[ 0,  1,  2,  3],\n",
       "       [ 4,  5,  6,  7],\n",
       "       [ 8,  9, 10, 11],\n",
       "       [12, 13, 14, 15],\n",
       "       [16, 17, 18, 19],\n",
       "       [20, 21, 22, 23],\n",
       "       [24, 25, 26, 27],\n",
       "       [28, 29, 30, 31]])"
      ]
     },
     "execution_count": 14,
     "metadata": {},
     "output_type": "execute_result"
    }
   ],
   "source": [
    "arr1 = np.arange(32).reshape((8,4))\n",
    "arr1"
   ]
  }
 ],
 "metadata": {
  "kernelspec": {
   "display_name": "Python 3",
   "language": "python",
   "name": "python3"
  },
  "language_info": {
   "codemirror_mode": {
    "name": "ipython",
    "version": 3
   },
   "file_extension": ".py",
   "mimetype": "text/x-python",
   "name": "python",
   "nbconvert_exporter": "python",
   "pygments_lexer": "ipython3",
   "version": "3.6.4"
  }
 },
 "nbformat": 4,
 "nbformat_minor": 2
}
