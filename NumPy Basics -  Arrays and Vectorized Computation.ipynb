{
 "cells": [
  {
   "cell_type": "markdown",
   "metadata": {},
   "source": [
    "<h4> Performance of NumPy vs. Built-in Python object </h4>"
   ]
  },
  {
   "cell_type": "code",
   "execution_count": 2,
   "metadata": {},
   "outputs": [
    {
     "name": "stdout",
     "output_type": "stream",
     "text": [
      "CPU times: user 27.9 ms, sys: 12 ms, total: 39.9 ms\n",
      "Wall time: 46 ms\n"
     ]
    }
   ],
   "source": [
    "import numpy as np\n",
    "my_arr = np.arange(1000000)\n",
    "my_list = list(my_arr)\n",
    "\n",
    "numpy_per = %time for _ in range(10): my_arr2= my_arr * 2\n",
    "numpy_per"
   ]
  },
  {
   "cell_type": "code",
   "execution_count": 11,
   "metadata": {},
   "outputs": [
    {
     "name": "stdout",
     "output_type": "stream",
     "text": [
      "CPU times: user 2.7 s, sys: 117 ms, total: 2.82 s\n",
      "Wall time: 2.84 s\n"
     ]
    }
   ],
   "source": [
    "builtin_per = %time for _ in range(10): my_list2 = [x*2 for x in my_list]\n",
    "builtin_per"
   ]
  },
  {
   "cell_type": "markdown",
   "metadata": {},
   "source": [
    "<h4>Working with nested sequence of list in NumPy</h4>"
   ]
  },
  {
   "cell_type": "code",
   "execution_count": 21,
   "metadata": {},
   "outputs": [
    {
     "data": {
      "text/plain": [
       "array([[1, 2, 3],\n",
       "       [4, 5, 6]])"
      ]
     },
     "execution_count": 21,
     "metadata": {},
     "output_type": "execute_result"
    }
   ],
   "source": [
    "data = [[1,2,3], [4,5,6]]\n",
    "\n",
    "arr = np.array(data)\n",
    "arr.shape\n",
    "arr.ndim\n",
    "arr"
   ]
  },
  {
   "cell_type": "markdown",
   "metadata": {},
   "source": [
    "<h4> Boolean Indexing </h4>"
   ]
  },
  {
   "cell_type": "code",
   "execution_count": 28,
   "metadata": {},
   "outputs": [
    {
     "name": "stdout",
     "output_type": "stream",
     "text": [
      "[[-0.28471886  0.33824448  1.09632199 -1.18886331]\n",
      " [-0.68002506 -1.1751691  -1.35315816  0.85543846]\n",
      " [-0.6097765   0.07136144 -0.78144932  1.10607427]\n",
      " [ 1.07209761  0.55628288 -1.63269828  1.06017611]\n",
      " [ 0.09621653 -1.87772298 -1.56014794 -1.89692166]\n",
      " [-1.23523306  2.39503674  1.08830373 -0.15300371]\n",
      " [ 1.71788219 -1.95497526 -1.0294092   1.25858656]]\n"
     ]
    },
    {
     "data": {
      "text/plain": [
       "array([[-0.6097765 ,  0.07136144, -0.78144932,  1.10607427],\n",
       "       [ 0.09621653, -1.87772298, -1.56014794, -1.89692166]])"
      ]
     },
     "execution_count": 28,
     "metadata": {},
     "output_type": "execute_result"
    }
   ],
   "source": [
    "num = np.random.randn(7,4)\n",
    "names = np.array(['Bob', 'Joe', 'Will', 'Bob', 'Will', 'Joe', 'Joe'])\n",
    "\n",
    "# It will set all the negative values in ndarray to 0\n",
    "#num[num<0] = 0\n",
    "cond = names == 'Bob'\n",
    "print(num)\n",
    "\n",
    "# To invert to result\n",
    "num[~cond]\n",
    "mask = (names == 'Bob') | (names == 'Joe')\n",
    "num[mask]\n"
   ]
  }
 ],
 "metadata": {
  "kernelspec": {
   "display_name": "Python 3",
   "language": "python",
   "name": "python3"
  },
  "language_info": {
   "codemirror_mode": {
    "name": "ipython",
    "version": 3
   },
   "file_extension": ".py",
   "mimetype": "text/x-python",
   "name": "python",
   "nbconvert_exporter": "python",
   "pygments_lexer": "ipython3",
   "version": "3.6.4"
  }
 },
 "nbformat": 4,
 "nbformat_minor": 2
}
