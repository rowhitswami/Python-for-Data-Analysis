{
 "cells": [
  {
   "cell_type": "markdown",
   "metadata": {},
   "source": [
    "<h4> Working with package <i>bisect</i> </h4>"
   ]
  },
  {
   "cell_type": "code",
   "execution_count": 25,
   "metadata": {},
   "outputs": [
    {
     "data": {
      "text/plain": [
       "[6, 13, 50, 56, 59, 76, 96]"
      ]
     },
     "execution_count": 25,
     "metadata": {},
     "output_type": "execute_result"
    }
   ],
   "source": [
    "import bisect\n",
    "a = [56,6,59,76,13,96]\n",
    "a.sort()\n",
    "bisect.insort(a, 50)\n",
    "a\n"
   ]
  },
  {
   "cell_type": "code",
   "execution_count": 34,
   "metadata": {},
   "outputs": [
    {
     "name": "stdout",
     "output_type": "stream",
     "text": [
      "0: 1, 6\n",
      "1: 54, 96\n",
      "2: 45, 66\n"
     ]
    }
   ],
   "source": [
    "seq1 = [1, 54, 45, 36]\n",
    "seq2 = [6,96, 66]\n",
    "\n",
    "zipped = zip(seq1, seq2)\n",
    "\n",
    "for i, (a,b) in enumerate(zipped):\n",
    "    print('{0}: {1}, {2}'.format(i,a,b))"
   ]
  }
 ],
 "metadata": {
  "kernelspec": {
   "display_name": "Python 3",
   "language": "python",
   "name": "python3"
  },
  "language_info": {
   "codemirror_mode": {
    "name": "ipython",
    "version": 3
   },
   "file_extension": ".py",
   "mimetype": "text/x-python",
   "name": "python",
   "nbconvert_exporter": "python",
   "pygments_lexer": "ipython3",
   "version": "3.6.4"
  }
 },
 "nbformat": 4,
 "nbformat_minor": 2
}
