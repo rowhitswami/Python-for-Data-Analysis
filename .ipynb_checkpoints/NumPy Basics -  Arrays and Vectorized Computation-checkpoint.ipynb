{
 "cells": [
  {
   "cell_type": "markdown",
   "metadata": {},
   "source": [
    "<h4> Performance of NumPy vs. Built-in Python object </h4>"
   ]
  },
  {
   "cell_type": "code",
   "execution_count": 1,
   "metadata": {},
   "outputs": [
    {
     "name": "stdout",
     "output_type": "stream",
     "text": [
      "CPU times: user 20.9 ms, sys: 15.9 ms, total: 36.8 ms\n",
      "Wall time: 46.8 ms\n"
     ]
    }
   ],
   "source": [
    "import numpy as np\n",
    "my_arr = np.arange(1000000)\n",
    "my_list = list(my_arr)\n",
    "\n",
    "numpy_per = %time for _ in range(10): my_arr2= my_arr * 2\n",
    "numpy_per"
   ]
  },
  {
   "cell_type": "code",
   "execution_count": 11,
   "metadata": {},
   "outputs": [
    {
     "name": "stdout",
     "output_type": "stream",
     "text": [
      "CPU times: user 2.7 s, sys: 117 ms, total: 2.82 s\n",
      "Wall time: 2.84 s\n"
     ]
    }
   ],
   "source": [
    "builtin_per = %time for _ in range(10): my_list2 = [x*2 for x in my_list]\n",
    "builtin_per"
   ]
  },
  {
   "cell_type": "markdown",
   "metadata": {},
   "source": [
    "<h4>Working with nested sequence of list in NumPy</h4>"
   ]
  },
  {
   "cell_type": "code",
   "execution_count": 21,
   "metadata": {},
   "outputs": [
    {
     "data": {
      "text/plain": [
       "array([[1, 2, 3],\n",
       "       [4, 5, 6]])"
      ]
     },
     "execution_count": 21,
     "metadata": {},
     "output_type": "execute_result"
    }
   ],
   "source": [
    "data = [[1,2,3], [4,5,6]]\n",
    "\n",
    "arr = np.array(data)\n",
    "arr.shape\n",
    "arr.ndim\n",
    "arr"
   ]
  },
  {
   "cell_type": "markdown",
   "metadata": {},
   "source": [
    "<h4> Boolean Indexing </h4>"
   ]
  },
  {
   "cell_type": "code",
   "execution_count": 32,
   "metadata": {},
   "outputs": [
    {
     "name": "stdout",
     "output_type": "stream",
     "text": [
      "[[ 1.43557627 -1.09817543  0.44046755  0.80495663]\n",
      " [ 1.27697874  0.34878352 -0.71136721 -0.01593855]\n",
      " [-0.30354192 -0.4135478   1.99067563 -1.48751501]\n",
      " [ 0.79042721  0.84611955  0.5685947  -2.33133782]\n",
      " [-0.24870595  0.57038387 -0.91614404 -3.14150912]\n",
      " [-0.03208382 -0.09524793 -0.24864763  0.23836339]\n",
      " [ 0.43595555  0.57279476 -0.59901348  0.19222599]]\n"
     ]
    },
    {
     "data": {
      "text/plain": [
       "array([[ 8.        ,  8.        ,  8.        ,  8.        ],\n",
       "       [ 1.27697874,  0.34878352, -0.71136721, -0.01593855],\n",
       "       [ 8.        ,  8.        ,  8.        ,  8.        ],\n",
       "       [-0.03208382, -0.09524793, -0.24864763,  0.23836339],\n",
       "       [ 0.43595555,  0.57279476, -0.59901348,  0.19222599]])"
      ]
     },
     "execution_count": 32,
     "metadata": {},
     "output_type": "execute_result"
    }
   ],
   "source": [
    "num = np.random.randn(7,4)\n",
    "names = np.array(['Bob', 'Joe', 'Will', 'Bob', 'Will', 'Joe', 'Joe'])\n",
    "\n",
    "# It will set all the negative values in ndarray to 0\n",
    "#num[num<0] = 0\n",
    "cond = names == 'Bob'\n",
    "print(num)\n",
    "\n",
    "# To invert to result\n",
    "num[~cond]\n",
    "\n",
    "# Unary Operator\n",
    "mask = (names == 'Bob') | (names == 'Joe')\n",
    "\n",
    "num[names != 'Joe'] = 8\n",
    "num[mask]"
   ]
  },
  {
   "cell_type": "markdown",
   "metadata": {},
   "source": [
    "<h4> Fancy Indexing </h4>"
   ]
  },
  {
   "cell_type": "code",
   "execution_count": 10,
   "metadata": {},
   "outputs": [
    {
     "name": "stdout",
     "output_type": "stream",
     "text": [
      "[[4. 4. 4.]\n",
      " [7. 7. 7.]\n",
      " [2. 2. 2.]]\n",
      "\n",
      "We can use negative sign to select the values from the end\n",
      "[[3. 3. 3.]\n",
      " [6. 6. 6.]]\n"
     ]
    }
   ],
   "source": [
    "arr = np.empty((8,3))\n",
    "arr\n",
    "\n",
    "for i in range(8):\n",
    "    arr[i]=i\n",
    "print(arr[[4,7,2]])\n",
    "\n",
    "print(\"\\nWe can use negative sign to select the values from the end\")\n",
    "print(arr[[-5, -2]])"
   ]
  },
  {
   "cell_type": "code",
   "execution_count": 14,
   "metadata": {},
   "outputs": [
    {
     "data": {
      "text/plain": [
       "array([[ 0,  1,  2,  3],\n",
       "       [ 4,  5,  6,  7],\n",
       "       [ 8,  9, 10, 11],\n",
       "       [12, 13, 14, 15],\n",
       "       [16, 17, 18, 19],\n",
       "       [20, 21, 22, 23],\n",
       "       [24, 25, 26, 27],\n",
       "       [28, 29, 30, 31]])"
      ]
     },
     "execution_count": 14,
     "metadata": {},
     "output_type": "execute_result"
    }
   ],
   "source": [
    "arr1 = np.arange(32).reshape((8,4))\n",
    "arr1"
   ]
  },
  {
   "cell_type": "markdown",
   "metadata": {},
   "source": [
    "<h4>Transposing Arrays and Swaping Axes</h4>"
   ]
  },
  {
   "cell_type": "code",
   "execution_count": 20,
   "metadata": {},
   "outputs": [
    {
     "name": "stdout",
     "output_type": "stream",
     "text": [
      "[[ 0  1  2  3  4]\n",
      " [ 5  6  7  8  9]\n",
      " [10 11 12 13 14]\n",
      " [15 16 17 18 19]]\n"
     ]
    },
    {
     "data": {
      "text/plain": [
       "array([[ 0,  5, 10, 15],\n",
       "       [ 1,  6, 11, 16],\n",
       "       [ 2,  7, 12, 17],\n",
       "       [ 3,  8, 13, 18],\n",
       "       [ 4,  9, 14, 19]])"
      ]
     },
     "execution_count": 20,
     "metadata": {},
     "output_type": "execute_result"
    }
   ],
   "source": [
    "# Transposing an array\n",
    "arr2 = np.arange(20).reshape((4, 5))\n",
    "print(arr2)\n",
    "arr2.T"
   ]
  },
  {
   "cell_type": "code",
   "execution_count": 22,
   "metadata": {},
   "outputs": [
    {
     "data": {
      "text/plain": [
       "array([[11.43864653, -1.88187474,  2.90269789],\n",
       "       [-1.88187474, 14.87775377, -5.62815732],\n",
       "       [ 2.90269789, -5.62815732, 11.39099877]])"
      ]
     },
     "execution_count": 22,
     "metadata": {},
     "output_type": "execute_result"
    }
   ],
   "source": [
    "# Inner matrix product using np.dot\n",
    "arr = np.random.randn(10,3)\n",
    "np.dot(arr.T, arr)"
   ]
  },
  {
   "cell_type": "code",
   "execution_count": 33,
   "metadata": {},
   "outputs": [
    {
     "name": "stdout",
     "output_type": "stream",
     "text": [
      "[[[-0.63902513  2.63208294  0.48069398 -0.64363022]\n",
      "  [-0.74302885 -0.24514618 -0.85241461  0.4275599 ]]\n",
      "\n",
      " [[ 0.10219083 -0.87848456  0.1226736  -0.64609349]\n",
      "  [ 1.64780944 -1.03021741 -1.53191546 -1.1339234 ]]]\n"
     ]
    },
    {
     "data": {
      "text/plain": [
       "array([[[-0.63902513,  2.63208294,  0.48069398, -0.64363022],\n",
       "        [ 0.10219083, -0.87848456,  0.1226736 , -0.64609349]],\n",
       "\n",
       "       [[-0.74302885, -0.24514618, -0.85241461,  0.4275599 ],\n",
       "        [ 1.64780944, -1.03021741, -1.53191546, -1.1339234 ]]])"
      ]
     },
     "execution_count": 33,
     "metadata": {},
     "output_type": "execute_result"
    }
   ],
   "source": [
    "# For higher dimensional array\n",
    "arr = np.random.randn(16).reshape((2,2,4))\n",
    "print(arr)\n",
    "arr.transpose(1,0,2)\n"
   ]
  },
  {
   "cell_type": "code",
   "execution_count": 39,
   "metadata": {},
   "outputs": [
    {
     "data": {
      "text/plain": [
       "array([[[ 0,  4],\n",
       "        [ 1,  5],\n",
       "        [ 2,  6],\n",
       "        [ 3,  7]],\n",
       "\n",
       "       [[ 8, 12],\n",
       "        [ 9, 13],\n",
       "        [10, 14],\n",
       "        [11, 15]]])"
      ]
     },
     "execution_count": 39,
     "metadata": {},
     "output_type": "execute_result"
    }
   ],
   "source": [
    "# Swap-axes takes the pair of axis numbers\n",
    "# and switches the indicated axes to rearrange the data\n",
    "\n",
    "arr = np.arange(16).reshape((2, 2, 4))\n",
    "arr.swapaxes(1,2)\n",
    "\n",
    "# swapaxes similarly returns a view on the data without making a copy."
   ]
  },
  {
   "cell_type": "code",
   "execution_count": null,
   "metadata": {},
   "outputs": [],
   "source": []
  }
 ],
 "metadata": {
  "kernelspec": {
   "display_name": "Python 3",
   "language": "python",
   "name": "python3"
  },
  "language_info": {
   "codemirror_mode": {
    "name": "ipython",
    "version": 3
   },
   "file_extension": ".py",
   "mimetype": "text/x-python",
   "name": "python",
   "nbconvert_exporter": "python",
   "pygments_lexer": "ipython3",
   "version": "3.6.4"
  }
 },
 "nbformat": 4,
 "nbformat_minor": 2
}
